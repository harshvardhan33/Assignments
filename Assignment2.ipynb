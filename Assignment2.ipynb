{
 "cells": [
  {
   "cell_type": "markdown",
   "metadata": {},
   "source": [
    "# Assignment 2"
   ]
  },
  {
   "cell_type": "markdown",
   "metadata": {},
   "source": [
    "## Task1"
   ]
  },
  {
   "cell_type": "markdown",
   "metadata": {},
   "source": [
    "**1.1 Write a Python Program to implement your own myreduce() function which works exactly like\n",
    "Python's built-in function reduce()**"
   ]
  },
  {
   "cell_type": "markdown",
   "metadata": {},
   "source": [
    "**myReduce** function (EXACTLY AS BUILT IN FUNCTION)"
   ]
  },
  {
   "cell_type": "code",
   "execution_count": 10,
   "metadata": {},
   "outputs": [],
   "source": [
    "def myReduce(function,iterable):\n",
    "    return function(iterable)"
   ]
  },
  {
   "cell_type": "markdown",
   "metadata": {},
   "source": [
    " Here I can have an iterable and normal function that I want to pass in myReduce function"
   ]
  },
  {
   "cell_type": "code",
   "execution_count": 11,
   "metadata": {},
   "outputs": [],
   "source": [
    "# Function to perform sum of all elements of an iterable\n",
    "def add(iterable):\n",
    "    sum = 0\n",
    "    for i in iterable:\n",
    "        sum+=i \n",
    "    return sum"
   ]
  },
  {
   "cell_type": "code",
   "execution_count": 19,
   "metadata": {},
   "outputs": [
    {
     "name": "stdout",
     "output_type": "stream",
     "text": [
      "Output :  15\n"
     ]
    }
   ],
   "source": [
    "# List of numbers and Function Calling \n",
    "\n",
    "sequence = [1,2,3,4,5]\n",
    "result = myReduce(add,sequence)\n",
    "print(\"Output : \",result)"
   ]
  },
  {
   "cell_type": "markdown",
   "metadata": {},
   "source": [
    "**1.2\n",
    "Write a Python program to implement your own myfilter() function which works exactly like\n",
    "Python's built-in function filter()**"
   ]
  },
  {
   "cell_type": "markdown",
   "metadata": {},
   "source": [
    "**myFilter** function (EXACTLY AS BUILT IN FUNCTION)"
   ]
  },
  {
   "cell_type": "code",
   "execution_count": 15,
   "metadata": {},
   "outputs": [],
   "source": [
    "def myFilter(function,iterable):\n",
    "    return function(iterable)"
   ]
  },
  {
   "cell_type": "code",
   "execution_count": 16,
   "metadata": {},
   "outputs": [],
   "source": [
    "# Function to check even of all elements of an iterable\n",
    "def checkEven(iterable):\n",
    "    res=[]\n",
    "    for i in iterable:\n",
    "        if i%2==0:\n",
    "            res.append(i)\n",
    "    return res"
   ]
  },
  {
   "cell_type": "code",
   "execution_count": 20,
   "metadata": {},
   "outputs": [
    {
     "name": "stdout",
     "output_type": "stream",
     "text": [
      "Output :  [2, 4, 6]\n"
     ]
    }
   ],
   "source": [
    "sequence = [1,2,3,4,5,6]\n",
    "result = myFilter(checkEven,sequence)\n",
    "print(\"Output : \",result)"
   ]
  },
  {
   "cell_type": "markdown",
   "metadata": {},
   "source": [
    "**2.\n",
    "Implement List comprehensions to produce the following lists.\n",
    "Write List comprehensions to produce the following Lists**\n",
    "\n",
    "['A', 'C', 'A', 'D', 'G', 'I', ’L’, ‘ D’]\n",
    "\n",
    "['x', 'xx', 'xxx', 'xxxx', 'y', 'yy', 'yyy', 'yyyy', 'z', 'zz', 'zzz', 'zzzz']\n",
    "\n",
    "['x', 'y', 'z', 'xx', 'yy', 'zz', 'xx', 'yy', 'zz', 'xxxx', 'yyyy', 'zzzz']\n",
    "\n",
    "[[2], [3], [4], [3], [4], [5], [4], [5], [6]]\n",
    "\n",
    "[[2, 3, 4, 5], [3, 4, 5, 6], [4, 5, 6, 7], [5, 6, 7, 8]]\n",
    "\n",
    "[(1, 1), (2, 1), (3, 1), (1, 2), (2, 2), (3, 2), (1, 3), (2, 3), (3, 3)]"
   ]
  },
  {
   "cell_type": "code",
   "execution_count": 3,
   "metadata": {},
   "outputs": [
    {
     "name": "stdout",
     "output_type": "stream",
     "text": [
      "['A', 'C', 'A', 'D', 'G', 'I', 'L', 'D']\n"
     ]
    }
   ],
   "source": [
    "#First List Comprehension\n",
    "s = \"ACADGILD\"\n",
    "s = [i for i in s]\n",
    "print(s)"
   ]
  },
  {
   "cell_type": "code",
   "execution_count": 8,
   "metadata": {},
   "outputs": [
    {
     "name": "stdout",
     "output_type": "stream",
     "text": [
      "['x', 'xx', 'xxx', 'xxxx', 'y', 'yy', 'yyy', 'yyyy', 'z', 'zz', 'zzz', 'zzzz']\n"
     ]
    }
   ],
   "source": [
    "#Second List Comprehension\n",
    "s = 'xyz'\n",
    "s = [i*j for i in s for j in range(1,5)]\n",
    "print(s)\n"
   ]
  },
  {
   "cell_type": "code",
   "execution_count": 10,
   "metadata": {},
   "outputs": [
    {
     "name": "stdout",
     "output_type": "stream",
     "text": [
      "['x', 'y', 'z', 'xx', 'yy', 'zz', 'xxx', 'yyy', 'zzz', 'xxxx', 'yyyy', 'zzzz']\n"
     ]
    }
   ],
   "source": [
    "#Third List Comprehension\n",
    "s = 'xyz'\n",
    "s = [i*j for i in range(1,5) for j in s]\n",
    "print(s)"
   ]
  },
  {
   "cell_type": "code",
   "execution_count": 12,
   "metadata": {},
   "outputs": [
    {
     "name": "stdout",
     "output_type": "stream",
     "text": [
      "[[2], [3], [4], [3], [4], [5], [4], [5], [6]]\n"
     ]
    }
   ],
   "source": [
    "#Fourth List Comprehension\n",
    "s = [[j] for i in range(2,5) for j in range(i,i+3)]\n",
    "print(s)"
   ]
  },
  {
   "cell_type": "code",
   "execution_count": 27,
   "metadata": {},
   "outputs": [
    {
     "name": "stdout",
     "output_type": "stream",
     "text": [
      "[[2, 3, 4, 5], [3, 4, 5, 6], [4, 5, 6, 7], [5, 6, 7, 8]]\n"
     ]
    }
   ],
   "source": [
    "#Fifth List Comprehension\n",
    "s = [[j for j in range(i,i+4) ]for i in range(2,6) ]\n",
    "print(s)"
   ]
  },
  {
   "cell_type": "code",
   "execution_count": 30,
   "metadata": {},
   "outputs": [
    {
     "name": "stdout",
     "output_type": "stream",
     "text": [
      "[(1, 1), (2, 1), (3, 1), (1, 2), (2, 2), (3, 2), (1, 3), (2, 3), (3, 3)]\n"
     ]
    }
   ],
   "source": [
    "#Sixth List Comprehension\n",
    "s = [(j,i) for i in range(1,4) for j in range(1,4)]\n",
    "print(s)"
   ]
  },
  {
   "cell_type": "markdown",
   "metadata": {},
   "source": [
    "**3.\n",
    "Implement a function longestWord() that takes a list of words and returns the longest one.**"
   ]
  },
  {
   "cell_type": "code",
   "execution_count": 2,
   "metadata": {},
   "outputs": [
    {
     "name": "stdout",
     "output_type": "stream",
     "text": [
      "Output 1 :  vardhan\n",
      "Output 2 :  vardhan\n",
      "Output 3 :  vardhan\n"
     ]
    }
   ],
   "source": [
    "# Way 1 using list comprehension\n",
    "def longestWord1(list_of_words):\n",
    "    return  max([(len(x),x) for x in list_of_words])[1]\n",
    " \n",
    "# Way 2 in built function\n",
    "def longestWord2(list_of_words):\n",
    "    return max(list_of_words,key=len)\n",
    "    \n",
    "# Way 3 using simple for loop\n",
    "def longestWord3(list_of_words):\n",
    "    mx = 0 \n",
    "    for i in range(len(list_of_words)):       \n",
    "        if len(list_of_words[i])>mx:\n",
    "            mx = len(list_of_words[i])\n",
    "            index = i    \n",
    "    return list_of_words[index]\n",
    "\n",
    "\n",
    "list_of_words = [\"my\",\"name\",\"is\",\"harsh\",\"vardhan\",\"singh\"] \n",
    "\n",
    "#Function Calling\n",
    "print(\"Output 1 : \", longestWord1(list_of_words))\n",
    "print(\"Output 2 : \", longestWord2(list_of_words))\n",
    "print(\"Output 3 : \", longestWord3(list_of_words))\n"
   ]
  },
  {
   "cell_type": "markdown",
   "metadata": {},
   "source": [
    "# Task 2"
   ]
  },
  {
   "cell_type": "markdown",
   "metadata": {},
   "source": [
    "**1.1**\n",
    "\n",
    "**Write a Python Program(with class concepts) to find the area of the triangle using the below\n",
    "formula.\n",
    "area = (s*(s-a)*(s-b)*(s-c)) ** 0.5\n",
    "Function to take the length of the sides of triangle from user should be defined in the parent\n",
    "class and function to calculate the area should be defined in subclass.**"
   ]
  },
  {
   "cell_type": "code",
   "execution_count": 1,
   "metadata": {},
   "outputs": [
    {
     "name": "stdout",
     "output_type": "stream",
     "text": [
      "1\n",
      "1\n",
      "1\n",
      "Area of the triangle is : 0.43\n",
      "-----------------------------------------\n",
      "3\n",
      "3\n",
      "3\n",
      "Area of the triangle is : 3.90\n"
     ]
    }
   ],
   "source": [
    "# Parent Class\n",
    "class Triangle:\n",
    "    \n",
    "    # Method to take sides from user Input\n",
    "    def getSides(self):\n",
    "        self.a = int(input())\n",
    "        self.b = int(input())\n",
    "        self.c = int(input())\n",
    "        \n",
    "        \n",
    "class Area(Triangle, object):\n",
    "    # Method to calcualte the Area of the Triangle\n",
    "    def calculateArea(self):\n",
    "        super(Area, self).getSides()        \n",
    "        s = (self.a+self.b+self.c)/2\n",
    "        area = (s*(s-self.a)*(s-self.b)*(s-self.c)) ** 0.5\n",
    "        return area\n",
    "        \n",
    "#Example 1\n",
    "obj1 = Area()\n",
    "result = obj1.calculateArea()\n",
    "print(f\"Area of the triangle is : {result:.2f}\")\n",
    "\n",
    "print(\"-----------------------------------------\")\n",
    "#Example 2\n",
    "obj2 = Area()\n",
    "result = obj2.calculateArea()\n",
    "print(f\"Area of the triangle is : {result:.2f}\")"
   ]
  },
  {
   "cell_type": "markdown",
   "metadata": {},
   "source": [
    "**1.2\n",
    "Write a function filter_long_words() that takes a list of words and an integer n and returns the list\n",
    "of words that are longer than n.**"
   ]
  },
  {
   "cell_type": "code",
   "execution_count": 21,
   "metadata": {},
   "outputs": [],
   "source": [
    "# Function \n",
    "def filter_long_words(words,length):\n",
    "    return [i for i in words if len(i)>length]"
   ]
  },
  {
   "cell_type": "code",
   "execution_count": 22,
   "metadata": {},
   "outputs": [
    {
     "name": "stdout",
     "output_type": "stream",
     "text": [
      "['abcd', 'abce', 'efghi']\n"
     ]
    }
   ],
   "source": [
    "# for length = 3\n",
    "length = 3\n",
    "words = [\"a\",\"aa\",\"aaa\",\"abc\",\"abcd\",\"abce\",\"efghi\"]\n",
    "print(filter_long_words(words,length))"
   ]
  },
  {
   "cell_type": "code",
   "execution_count": 24,
   "metadata": {},
   "outputs": [
    {
     "name": "stdout",
     "output_type": "stream",
     "text": [
      "['aaa', 'abc', 'abcd', 'abce', 'efghi']\n"
     ]
    }
   ],
   "source": [
    "# for length = 2\n",
    "length = 2\n",
    "words = [\"a\",\"aa\",\"aaa\",\"abc\",\"abcd\",\"abce\",\"efghi\"]\n",
    "print(filter_long_words(words,length))"
   ]
  },
  {
   "cell_type": "markdown",
   "metadata": {},
   "source": [
    "**2.1\n",
    "Write a Python program using function concept that maps list of words into a list of integers\n",
    "representing the lengths of the corresponding words​.**\n",
    "\n",
    "**Hint: ​If a list [ ab,cde,erty] is passed on to the python function output should come as [2,3,4]\n",
    "Here 2,3 and 4 are the lengths of the words in the list.**"
   ]
  },
  {
   "cell_type": "code",
   "execution_count": 25,
   "metadata": {},
   "outputs": [],
   "source": [
    "def wordLength(words):\n",
    "    return [len(i) for i in words]"
   ]
  },
  {
   "cell_type": "code",
   "execution_count": 27,
   "metadata": {},
   "outputs": [
    {
     "name": "stdout",
     "output_type": "stream",
     "text": [
      "Output :  [2, 3, 4]\n"
     ]
    }
   ],
   "source": [
    "words = [\"ab\",\"cde\",\"erty\"]\n",
    "print(\"Output : \",wordLength(words))"
   ]
  },
  {
   "cell_type": "markdown",
   "metadata": {},
   "source": [
    "**2.2\n",
    "Write a Python function which takes a character (i.e. a string of length 1) and returns True if it is\n",
    "a vowel, False otherwise.**"
   ]
  },
  {
   "cell_type": "code",
   "execution_count": 32,
   "metadata": {},
   "outputs": [
    {
     "name": "stdout",
     "output_type": "stream",
     "text": [
      "A : True\n",
      "a : True\n",
      "B : False\n",
      "b : False\n"
     ]
    }
   ],
   "source": [
    "def isVowel(char):\n",
    "    return char.lower() in \"aeiou\"\n",
    "\n",
    "char1 = 'A'\n",
    "char2 = 'a'\n",
    "char3 = 'B'\n",
    "char4 = 'b'\n",
    "\n",
    "\n",
    "print(f'{char1} : {isVowel(char1)}')\n",
    "print(f'{char2} : {isVowel(char2)}')\n",
    "print(f'{char3} : {isVowel(char3)}')\n",
    "print(f'{char4} : {isVowel(char4)}')"
   ]
  },
  {
   "cell_type": "code",
   "execution_count": null,
   "metadata": {},
   "outputs": [],
   "source": []
  }
 ],
 "metadata": {
  "kernelspec": {
   "display_name": "Python 3",
   "language": "python",
   "name": "python3"
  },
  "language_info": {
   "codemirror_mode": {
    "name": "ipython",
    "version": 3
   },
   "file_extension": ".py",
   "mimetype": "text/x-python",
   "name": "python",
   "nbconvert_exporter": "python",
   "pygments_lexer": "ipython3",
   "version": "3.7.6"
  }
 },
 "nbformat": 4,
 "nbformat_minor": 2
}
