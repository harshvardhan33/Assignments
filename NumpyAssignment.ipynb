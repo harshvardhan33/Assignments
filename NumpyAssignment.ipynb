{
 "cells": [
  {
   "cell_type": "markdown",
   "metadata": {},
   "source": [
    "# Numpy Assignment"
   ]
  },
  {
   "cell_type": "markdown",
   "metadata": {},
   "source": [
    "## Task1"
   ]
  },
  {
   "cell_type": "markdown",
   "metadata": {},
   "source": [
    "<b>Write a function so that the columns of the output matrix are powers of the input\n",
    "vector.\n",
    "The order of the powers is determined by the increasing boolean argument. Specifically, when\n",
    "increasing is False, the i-th output column is the input vector raised element-wise to the power\n",
    "of N - i - 1.\n",
    "</b>\n",
    "HINT: Such a matrix with a geometric progression in each row is named for AlexandreTheophile Vandermonde."
   ]
  },
  {
   "cell_type": "markdown",
   "metadata": {},
   "source": [
    "###  AlexandreTheophile Vandermonde Matrix"
   ]
  },
  {
   "cell_type": "code",
   "execution_count": 1,
   "metadata": {},
   "outputs": [],
   "source": [
    "# Function for calculating Vandermonde Matrix\n",
    "def VandermondeMatrix(vector):\n",
    "    n = len(vector)\n",
    "    result = []\n",
    "    for i in range(n):\n",
    "        temp = []\n",
    "        for j in range(n):\n",
    "            temp.append(vector[j]**i)\n",
    "        result.append(temp)    \n",
    "    print(result)"
   ]
  },
  {
   "cell_type": "code",
   "execution_count": 2,
   "metadata": {},
   "outputs": [
    {
     "name": "stdout",
     "output_type": "stream",
     "text": [
      "Enter the elements of a Vector : 1 2 3\n",
      "[[1, 1, 1], [1, 2, 3], [1, 4, 9]]\n"
     ]
    }
   ],
   "source": [
    "#Example 1 \n",
    "vector = list(map(int,input(\"Enter the elements of a Vector : \").split()))\n",
    "VandermondeMatrix(vector)"
   ]
  },
  {
   "cell_type": "code",
   "execution_count": 3,
   "metadata": {},
   "outputs": [
    {
     "name": "stdout",
     "output_type": "stream",
     "text": [
      "Enter the elements of a Vector : 1 1 1\n",
      "[[1, 1, 1], [1, 1, 1], [1, 1, 1]]\n"
     ]
    }
   ],
   "source": [
    "#Example 2\n",
    "vector = list(map(int,input(\"Enter the elements of a Vector : \").split()))\n",
    "VandermondeMatrix(vector)"
   ]
  },
  {
   "cell_type": "code",
   "execution_count": 4,
   "metadata": {},
   "outputs": [
    {
     "name": "stdout",
     "output_type": "stream",
     "text": [
      "Enter the elements of a Vector : 1 2 3 4 5\n",
      "[[1, 1, 1, 1, 1], [1, 2, 3, 4, 5], [1, 4, 9, 16, 25], [1, 8, 27, 64, 125], [1, 16, 81, 256, 625]]\n"
     ]
    }
   ],
   "source": [
    "#Example 3\n",
    "vector = list(map(int,input(\"Enter the elements of a Vector : \").split()))\n",
    "VandermondeMatrix(vector)"
   ]
  },
  {
   "cell_type": "code",
   "execution_count": 5,
   "metadata": {},
   "outputs": [
    {
     "name": "stdout",
     "output_type": "stream",
     "text": [
      "Enter the elements of a Vector : 2 2 2\n",
      "[[1, 1, 1], [2, 2, 2], [4, 4, 4]]\n"
     ]
    }
   ],
   "source": [
    "#Example 4\n",
    "vector = list(map(int,input(\"Enter the elements of a Vector : \").split()))\n",
    "VandermondeMatrix(vector)"
   ]
  },
  {
   "cell_type": "markdown",
   "metadata": {},
   "source": [
    "## Task 2"
   ]
  },
  {
   "cell_type": "markdown",
   "metadata": {},
   "source": [
    "<b>Given a sequence of n values x1, x2, ..., xn and a window size k>0, the k-th moving average of\n",
    "the given sequence is defined as follows:\n",
    "The moving average sequence has n-k+1 elements as shown below</b>"
   ]
  },
  {
   "cell_type": "markdown",
   "metadata": {},
   "source": [
    "### Moving Average of n values with K>0 As window size"
   ]
  },
  {
   "cell_type": "code",
   "execution_count": 41,
   "metadata": {},
   "outputs": [],
   "source": [
    "## Function to calculate the moving average:\n",
    "\n",
    "def movingAverage(arr,n,k):\n",
    "    resultLength = n- k +1\n",
    "    result = [0]*resultLength\n",
    "    for i in range(len(arr)-k+1):        \n",
    "        temp = sum(arr[i:i+k])/k\n",
    "        result[i]=round(temp,2)\n",
    "    \n",
    "    print(\"Resultant Array Size : \",resultLength)\n",
    "    print(result)"
   ]
  },
  {
   "cell_type": "code",
   "execution_count": 42,
   "metadata": {},
   "outputs": [
    {
     "name": "stdout",
     "output_type": "stream",
     "text": [
      "Enter the Number of elements : 10\n",
      "Enter the n elements : 10 20 30 40 50 60 70 80 90 100\n",
      "Enter the window size : 4\n"
     ]
    }
   ],
   "source": [
    "n = int(input(\"Enter the Number of elements : \"))\n",
    "arr = list(map(int,input(\"Enter the n elements : \").split()))\n",
    "k = int(input(\"Enter the window size : \"))"
   ]
  },
  {
   "cell_type": "code",
   "execution_count": 43,
   "metadata": {},
   "outputs": [
    {
     "name": "stdout",
     "output_type": "stream",
     "text": [
      "Resultant Array Size :  7\n",
      "[25.0, 35.0, 45.0, 55.0, 65.0, 75.0, 85.0]\n"
     ]
    }
   ],
   "source": [
    "movingAverage(arr,n,k)"
   ]
  },
  {
   "cell_type": "code",
   "execution_count": 44,
   "metadata": {},
   "outputs": [],
   "source": [
    "## Sample input given in Assignment\n",
    "n = 13\n",
    "arr = [3, 5, 7, 2, 8, 10, 11, 65, 72, 81, 99, 100, 150]\n",
    "k = 3"
   ]
  },
  {
   "cell_type": "code",
   "execution_count": 45,
   "metadata": {},
   "outputs": [
    {
     "name": "stdout",
     "output_type": "stream",
     "text": [
      "Resultant Array Size :  11\n",
      "[5.0, 4.67, 5.67, 6.67, 9.67, 28.67, 49.33, 72.67, 84.0, 93.33, 116.33]\n"
     ]
    }
   ],
   "source": [
    "## Results has been rounded off to 2 digits \n",
    "movingAverage(arr,n,k)"
   ]
  },
  {
   "cell_type": "code",
   "execution_count": null,
   "metadata": {},
   "outputs": [],
   "source": []
  }
 ],
 "metadata": {
  "kernelspec": {
   "display_name": "Python 3",
   "language": "python",
   "name": "python3"
  },
  "language_info": {
   "codemirror_mode": {
    "name": "ipython",
    "version": 3
   },
   "file_extension": ".py",
   "mimetype": "text/x-python",
   "name": "python",
   "nbconvert_exporter": "python",
   "pygments_lexer": "ipython3",
   "version": "3.6.8"
  }
 },
 "nbformat": 4,
 "nbformat_minor": 2
}
